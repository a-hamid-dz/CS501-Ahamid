{
  "cells": [
    {
      "cell_type": "code",
      "execution_count": null,
      "id": "f99d9590-706d-4de3-94a9-be26d4b787f7",
      "metadata": {
        "id": "f99d9590-706d-4de3-94a9-be26d4b787f7"
      },
      "outputs": [],
      "source": [
        "# =======================================================================\n",
        "# Exercise: Variables in Python\n",
        "# Course: Deep Learning Complete Course (CS-501)\n",
        "#\n",
        "# Description: This notebook contains 20 questions/exercises to test\n",
        "#              your understanding of creating, naming, and using variables\n",
        "#              in Python.\n",
        "# © Copyright: Dr. Saad Laouadi\n",
        "# All Rights Reserved 🛡️\n",
        "# ======================================================================="
      ]
    },
    {
      "cell_type": "markdown",
      "source": [],
      "metadata": {
        "id": "N6Wx8WKdq0jw"
      },
      "id": "N6Wx8WKdq0jw"
    },
    {
      "cell_type": "code",
      "source": [
        "# Q1: Create a variable named `age` and assign your age to it.\n",
        "# Your code here:\n",
        "age =25"
      ],
      "metadata": {
        "id": "HAGR6M9xq140"
      },
      "id": "HAGR6M9xq140",
      "execution_count": 1,
      "outputs": []
    },
    {
      "cell_type": "code",
      "source": [
        "# Q2: Create two variables, `city` and `country`, and assign your city and country to them.\n",
        "# Your code here:\n",
        "city='Tiaret'\n",
        "country='Algeria'"
      ],
      "metadata": {
        "id": "0z9NEzPVrCDl"
      },
      "id": "0z9NEzPVrCDl",
      "execution_count": 2,
      "outputs": []
    },
    {
      "cell_type": "code",
      "source": [
        "# Q3: Combine `city` and `country` into a single string `location` and print it.\n",
        "# Your code here:\n",
        "location=city+', '+country\n",
        "print(location)"
      ],
      "metadata": {
        "id": "otLHaFqUrMSP",
        "outputId": "95d5cecf-3ee6-47d7-944b-3cb5ba20ff23",
        "colab": {
          "base_uri": "https://localhost:8080/"
        }
      },
      "id": "otLHaFqUrMSP",
      "execution_count": 4,
      "outputs": [
        {
          "output_type": "stream",
          "name": "stdout",
          "text": [
            "Tiaret, Algeria\n"
          ]
        }
      ]
    },
    {
      "cell_type": "code",
      "source": [
        "# Q4: Change the value of `age` to a different number and print it.\n",
        "# Your code here:\n",
        "age=30\n",
        "print(age)"
      ],
      "metadata": {
        "id": "a7xqTxPOrTuW",
        "outputId": "59ba1bf5-3da1-48aa-96b9-573e4502438c",
        "colab": {
          "base_uri": "https://localhost:8080/"
        }
      },
      "id": "a7xqTxPOrTuW",
      "execution_count": 5,
      "outputs": [
        {
          "output_type": "stream",
          "name": "stdout",
          "text": [
            "30\n"
          ]
        }
      ]
    },
    {
      "cell_type": "code",
      "source": [
        "# Q5: Create a variable `height` and assign a float value representing your height in meters.\n",
        "# Your code here:\n",
        "height=1.75\n",
        "print(height)"
      ],
      "metadata": {
        "id": "QGE5dnKUrXeM",
        "outputId": "fdc99a86-0f66-49a7-fd23-4817baa35020",
        "colab": {
          "base_uri": "https://localhost:8080/"
        }
      },
      "id": "QGE5dnKUrXeM",
      "execution_count": 6,
      "outputs": [
        {
          "output_type": "stream",
          "name": "stdout",
          "text": [
            "1.75\n"
          ]
        }
      ]
    },
    {
      "cell_type": "code",
      "source": [
        "# Q6: Check and print the data type of the `height` variable using the `type()` function.\n",
        "# Your code here:\n",
        "print(type(height))"
      ],
      "metadata": {
        "id": "iBWySSl6rbUa",
        "outputId": "da15d063-4717-4627-9539-dc203c0eae6b",
        "colab": {
          "base_uri": "https://localhost:8080/"
        }
      },
      "id": "iBWySSl6rbUa",
      "execution_count": 7,
      "outputs": [
        {
          "output_type": "stream",
          "name": "stdout",
          "text": [
            "<class 'float'>\n"
          ]
        }
      ]
    },
    {
      "cell_type": "code",
      "source": [
        "# Q7: Assign the value `True` to a variable named `is_student` and print the variable.\n",
        "# Your code here:\n",
        "is_student=True\n",
        "print(is_student)"
      ],
      "metadata": {
        "id": "EPwmnkXNrfem",
        "outputId": "d4a54beb-7c96-4c79-b079-1195d1652c46",
        "colab": {
          "base_uri": "https://localhost:8080/"
        }
      },
      "id": "EPwmnkXNrfem",
      "execution_count": 8,
      "outputs": [
        {
          "output_type": "stream",
          "name": "stdout",
          "text": [
            "True\n"
          ]
        }
      ]
    },
    {
      "cell_type": "code",
      "source": [
        "# Q8: Create a variable `name` with your first name using double quotes and then another variable `surname` with your last name using single quotes. Combine them into `full_name`.\n",
        "# Your code here:\n",
        "name='ABDELHAMMID'\n",
        "surname='bouazza'\n",
        "full_name=name+' '+surname\n",
        "print(full_name)"
      ],
      "metadata": {
        "id": "7-2NiekCrjhx",
        "outputId": "9a734713-bd9a-4c2f-b23a-2ceeec1eda26",
        "colab": {
          "base_uri": "https://localhost:8080/"
        }
      },
      "id": "7-2NiekCrjhx",
      "execution_count": 9,
      "outputs": [
        {
          "output_type": "stream",
          "name": "stdout",
          "text": [
            "ABDELHAMMID bouazza\n"
          ]
        }
      ]
    },
    {
      "cell_type": "code",
      "source": [
        "# Q9: Create two variables `x` and `y` and assign them integer values. Swap their values without using a third variable.\n",
        "# Your code here:\n",
        "x=5\n",
        "y=10\n",
        "x,y=y,x\n",
        "print(x,y)"
      ],
      "metadata": {
        "id": "L2rOaG16rr2d",
        "outputId": "3a91a081-4a41-44ed-f969-996a2799026c",
        "colab": {
          "base_uri": "https://localhost:8080/"
        }
      },
      "id": "L2rOaG16rr2d",
      "execution_count": 10,
      "outputs": [
        {
          "output_type": "stream",
          "name": "stdout",
          "text": [
            "10 5\n"
          ]
        }
      ]
    },
    {
      "cell_type": "code",
      "source": [
        "# Q10: Write a statement to update the `age` variable by adding 5 to it.\n",
        "# Your code here:\n",
        "age+=5\n",
        "print(age)"
      ],
      "metadata": {
        "id": "rE3CMvh2rxyR",
        "outputId": "d5f76bd1-2234-46ea-829d-d46e7ca453cb",
        "colab": {
          "base_uri": "https://localhost:8080/"
        }
      },
      "id": "rE3CMvh2rxyR",
      "execution_count": 11,
      "outputs": [
        {
          "output_type": "stream",
          "name": "stdout",
          "text": [
            "35\n"
          ]
        }
      ]
    },
    {
      "cell_type": "code",
      "source": [
        "# Q11: Create a variable `length` and assign it the value 15. Create another variable `width` and assign it 10. Calculate the area of a rectangle using these variables and print the result.\n",
        "# Your code here:\n",
        "length=15\n",
        "width=10\n",
        "area=length*width\n",
        "print(area)"
      ],
      "metadata": {
        "id": "l18lpdt1r2DS",
        "outputId": "69fe4195-055b-407e-a3a4-18bad05ef5ce",
        "colab": {
          "base_uri": "https://localhost:8080/"
        }
      },
      "id": "l18lpdt1r2DS",
      "execution_count": 12,
      "outputs": [
        {
          "output_type": "stream",
          "name": "stdout",
          "text": [
            "150\n"
          ]
        }
      ]
    },
    {
      "cell_type": "code",
      "source": [
        "# Q12: Using the variables `base` and `height`, calculate the area of a triangle and print it. Assume `base = 8` and `height = 5`.\n",
        "# Your code here:\n",
        "base=8\n",
        "height=5\n",
        "area=(base*height)/2\n",
        "print(area)"
      ],
      "metadata": {
        "id": "eAj2cY3Nr7s3",
        "outputId": "c466d16b-b6b0-4fff-9261-06692eb10fc3",
        "colab": {
          "base_uri": "https://localhost:8080/"
        }
      },
      "id": "eAj2cY3Nr7s3",
      "execution_count": 15,
      "outputs": [
        {
          "output_type": "stream",
          "name": "stdout",
          "text": [
            "20.0\n"
          ]
        }
      ]
    },
    {
      "cell_type": "code",
      "source": [
        "# Q13: Create a string variable `greeting` with the text \"Hello\" and another variable `recipient` with the text \"World\". Combine them with a space in between and print the result.\n",
        "# Your code here:\n",
        "greeting='Hello'\n",
        "recipient='World'\n",
        "print(greeting+' '+recipient)"
      ],
      "metadata": {
        "id": "uZ1FOKqgsGKW",
        "outputId": "8bfa7d78-b463-48df-a0a8-3b1e5df08c91",
        "colab": {
          "base_uri": "https://localhost:8080/"
        }
      },
      "id": "uZ1FOKqgsGKW",
      "execution_count": 16,
      "outputs": [
        {
          "output_type": "stream",
          "name": "stdout",
          "text": [
            "Hello World\n"
          ]
        }
      ]
    },
    {
      "cell_type": "code",
      "source": [
        "# Q14: Create a boolean variable `is_active` and set it to `False`. Then change its value to `True` and print it.\n",
        "# Your code here:\n",
        "is_active=False\n",
        "is_active=True\n",
        "print(is_active)\n"
      ],
      "metadata": {
        "id": "D2MF_cpasMxI",
        "outputId": "54694bcf-aa24-4669-f645-8d884ff816b6",
        "colab": {
          "base_uri": "https://localhost:8080/"
        }
      },
      "id": "D2MF_cpasMxI",
      "execution_count": 17,
      "outputs": [
        {
          "output_type": "stream",
          "name": "stdout",
          "text": [
            "True\n"
          ]
        }
      ]
    },
    {
      "cell_type": "code",
      "source": [
        "# Q15: Using f-strings, print a formatted message: \"My name is [name] and I am [age] years old.\" Replace [name] and [age] with the appropriate variables.\n",
        "# Your code here:\n",
        "name='ABDELHAMMID'\n",
        "age=25\n",
        "print(f'My name is {name} and I am {age} years old.')"
      ],
      "metadata": {
        "id": "5nlTMPGxsTUn",
        "outputId": "747226d1-89f0-4e91-d636-b1e3ae8844d4",
        "colab": {
          "base_uri": "https://localhost:8080/"
        }
      },
      "id": "5nlTMPGxsTUn",
      "execution_count": 18,
      "outputs": [
        {
          "output_type": "stream",
          "name": "stdout",
          "text": [
            "My name is ABDELHAMMID and I am 25 years old.\n"
          ]
        }
      ]
    },
    {
      "cell_type": "code",
      "source": [
        "# Q16: Create a variable `pi` and assign it the value 3.14159. Print the variable, ensuring it only shows 2 decimal places.\n",
        "# Your code here:\n",
        "pi=3.14159\n",
        "print(f'{pi:.2f}')"
      ],
      "metadata": {
        "id": "1hCOMDypsctg",
        "outputId": "5e1bc4be-94f3-433d-b4e3-d4a6f80e75e3",
        "colab": {
          "base_uri": "https://localhost:8080/"
        }
      },
      "id": "1hCOMDypsctg",
      "execution_count": 19,
      "outputs": [
        {
          "output_type": "stream",
          "name": "stdout",
          "text": [
            "3.14\n"
          ]
        }
      ]
    },
    {
      "cell_type": "code",
      "source": [
        "# Q17: Assign the value of a mathematical expression (e.g., `2 * (3 + 5)`) to a variable and print it.\n",
        "# Your code here:\n",
        "x=2*(3+5)\n",
        "print(x)"
      ],
      "metadata": {
        "id": "eofcPVgTskey",
        "outputId": "e9f0cc49-a938-4647-cb6e-b2a7e1466908",
        "colab": {
          "base_uri": "https://localhost:8080/"
        }
      },
      "id": "eofcPVgTskey",
      "execution_count": 20,
      "outputs": [
        {
          "output_type": "stream",
          "name": "stdout",
          "text": [
            "16\n"
          ]
        }
      ]
    },
    {
      "cell_type": "code",
      "source": [
        "# Q18: Create a variable `sentence` and assign it a sentence of your choice. Use slicing to print the first 5 characters.\n",
        "# Your code here:\n",
        "sentence='Hello World'\n",
        "print(sentence[:5])"
      ],
      "metadata": {
        "id": "2_vlD9n1sph1",
        "outputId": "18255213-4122-48ef-a1f0-573d03934000",
        "colab": {
          "base_uri": "https://localhost:8080/"
        }
      },
      "id": "2_vlD9n1sph1",
      "execution_count": 21,
      "outputs": [
        {
          "output_type": "stream",
          "name": "stdout",
          "text": [
            "Hello\n"
          ]
        }
      ]
    },
    {
      "cell_type": "code",
      "source": [
        "# Q19: Create a variable `number` with the value 100. Use an arithmetic operation to double its value and then print it.\n",
        "# Your code here:\n",
        "number=100\n",
        "number*=2\n",
        "print(number)"
      ],
      "metadata": {
        "id": "uzPDumP4s0Tw",
        "outputId": "70a199c2-ac53-49e1-c42c-df4582f336ad",
        "colab": {
          "base_uri": "https://localhost:8080/"
        }
      },
      "id": "uzPDumP4s0Tw",
      "execution_count": 22,
      "outputs": [
        {
          "output_type": "stream",
          "name": "stdout",
          "text": [
            "200\n"
          ]
        }
      ]
    },
    {
      "cell_type": "code",
      "source": [
        "# Q20: Declare three variables `a`, `b`, and `c` with values 5, 10, and 15 respectively. Calculate and print their average.\n",
        "# Your code here:\n",
        "a,b,c=5,10,15\n",
        "print((a+b+c)/3)"
      ],
      "metadata": {
        "id": "gvYzcWIIs6Sn",
        "outputId": "f2cecfd2-d345-4bcc-916a-f1e463d387f8",
        "colab": {
          "base_uri": "https://localhost:8080/"
        }
      },
      "id": "gvYzcWIIs6Sn",
      "execution_count": 23,
      "outputs": [
        {
          "output_type": "stream",
          "name": "stdout",
          "text": [
            "10.0\n"
          ]
        }
      ]
    }
  ],
  "metadata": {
    "kernelspec": {
      "display_name": "Python3.12",
      "language": "python",
      "name": "python3"
    },
    "language_info": {
      "codemirror_mode": {
        "name": "ipython",
        "version": 3
      },
      "file_extension": ".py",
      "mimetype": "text/x-python",
      "name": "python",
      "nbconvert_exporter": "python",
      "pygments_lexer": "ipython3",
      "version": "3.12.3"
    },
    "colab": {
      "provenance": []
    }
  },
  "nbformat": 4,
  "nbformat_minor": 5
}